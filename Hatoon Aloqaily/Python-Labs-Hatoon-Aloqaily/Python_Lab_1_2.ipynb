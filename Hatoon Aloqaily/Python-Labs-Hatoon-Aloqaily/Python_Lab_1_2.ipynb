{
  "cells": [
    {
      "cell_type": "markdown",
      "metadata": {
        "id": "gBl0W5cKaqa9"
      },
      "source": [
        "# Python_Lab_1.2"
      ]
    },
    {
      "cell_type": "markdown",
      "metadata": {
        "id": "Z-ENQvSnaqa_"
      },
      "source": [
        "### Task 1:\n",
        "1. Create a tuple with the following details:\n",
        "    - Your favorite movie (string)\n",
        "    - The year it was released (integer)\n",
        "    - Its rating out of 10 (float)\n",
        "    - Whether you have watched it (boolean)\n",
        "2. Print the detailes"
      ]
    },
    {
      "cell_type": "code",
      "execution_count": 1,
      "metadata": {
        "colab": {
          "base_uri": "https://localhost:8080/"
        },
        "id": "ZzlvP9hAaqa_",
        "outputId": "e12a71c8-7aa2-47bc-caac-a18b3a684097"
      },
      "outputs": [
        {
          "output_type": "stream",
          "name": "stdout",
          "text": [
            "('Interstellar', 2014, 8.7, True)\n"
          ]
        }
      ],
      "source": [
        "# write your code here ^_^\n",
        "fav_movie = ('Interstellar', 2014 , 8.7, True)\n",
        "\n",
        "print(fav_movie)"
      ]
    },
    {
      "cell_type": "markdown",
      "metadata": {
        "id": "YNCwQTlpaqbA"
      },
      "source": [
        "### Task 2:\n",
        "1. Create a set of 5 favorite colors.\n",
        "2. Print all the colors"
      ]
    },
    {
      "cell_type": "code",
      "execution_count": 2,
      "metadata": {
        "colab": {
          "base_uri": "https://localhost:8080/"
        },
        "id": "EIWaQORVaqbA",
        "outputId": "e2f0b1b7-4038-4a04-fd0a-4b51df85a483"
      },
      "outputs": [
        {
          "output_type": "stream",
          "name": "stdout",
          "text": [
            "{'brown', 'black', 'purple', 'grey', 'blue'}\n"
          ]
        }
      ],
      "source": [
        "# write your code here ^_^\n",
        "fav_colors = {'blue', 'black', 'grey', 'brown', 'purple'}\n",
        "\n",
        "print(fav_colors)"
      ]
    },
    {
      "cell_type": "markdown",
      "metadata": {
        "id": "vzqREU97aqbA"
      },
      "source": [
        "### Task 3:\n",
        "1. Create a dictionary to store information about 3 friends (name as key and a tuple with age and favorite hobby as value).\n",
        "2. Print the details of all friends."
      ]
    },
    {
      "cell_type": "code",
      "execution_count": 4,
      "metadata": {
        "colab": {
          "base_uri": "https://localhost:8080/"
        },
        "id": "XlZa9zr-aqbA",
        "outputId": "4a879f24-bb53-46f0-af04-16fb6b478049"
      },
      "outputs": [
        {
          "output_type": "stream",
          "name": "stdout",
          "text": [
            "{'Thea': (23, 'Playing VG'), 'Haifa': (27, 'Running'), 'Heetaf': (31, 'Reading')}\n"
          ]
        }
      ],
      "source": [
        "# write your code here ^_^\n",
        "friends= {\n",
        "    'Thea': (23, 'Playing VG'),\n",
        "    'Haifa': (27, 'Running'),\n",
        "    'Heetaf': (31, 'Reading')\n",
        "}\n",
        "\n",
        "print(friends)\n",
        "# or using for loop for printing it in a clear way"
      ]
    },
    {
      "cell_type": "markdown",
      "metadata": {
        "id": "EXXkShtZaqbA"
      },
      "source": [
        "### Task 4:\n",
        "1. Check if you have watched the movie and print an appropriate message.\n",
        "1. Check if a specific color is in your favorite colors set and print its availability status."
      ]
    },
    {
      "cell_type": "code",
      "execution_count": 7,
      "metadata": {
        "colab": {
          "base_uri": "https://localhost:8080/"
        },
        "id": "CCXd_HJSaqbA",
        "outputId": "e5baca1a-b200-42b7-b0cf-257f99296d30"
      },
      "outputs": [
        {
          "output_type": "stream",
          "name": "stdout",
          "text": [
            "Yes she did watch it!\n",
            "No, it is not available.\n"
          ]
        }
      ],
      "source": [
        "# write your code here ^_^\n",
        "if fav_movie[3] == True:\n",
        "  print('Yes she did watch it!')\n",
        "else:\n",
        "  print('No, she did not watch it')\n",
        "\n",
        "if 'pink' in fav_colors:\n",
        "  print('Yes, it is available.')\n",
        "else:\n",
        "  print('No, it is not available.')"
      ]
    }
  ],
  "metadata": {
    "language_info": {
      "name": "python"
    },
    "colab": {
      "provenance": []
    },
    "kernelspec": {
      "name": "python3",
      "display_name": "Python 3"
    }
  },
  "nbformat": 4,
  "nbformat_minor": 0
}