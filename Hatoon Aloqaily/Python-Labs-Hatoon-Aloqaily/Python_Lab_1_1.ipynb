{
  "cells": [
    {
      "cell_type": "markdown",
      "metadata": {
        "id": "YmcfxwVIS_v9"
      },
      "source": [
        "# Python_Lab_1.1\n"
      ]
    },
    {
      "cell_type": "markdown",
      "metadata": {
        "id": "nMTWST1sS_v-"
      },
      "source": [
        "### Task 1\n",
        "1. Print a welcome message.\n",
        "2. Create variables to store the following details:\n",
        "    - Your name (string)\n",
        "    - Your age (integer)\n",
        "    - Your height (float)\n",
        "    - Whether you are a student (boolean)\n",
        "3. Print these details.\n"
      ]
    },
    {
      "cell_type": "code",
      "execution_count": null,
      "metadata": {
        "colab": {
          "base_uri": "https://localhost:8080/"
        },
        "id": "YSv5hGUlS_v_",
        "outputId": "0db3832c-e2f5-4c53-9e0a-026a8de6380c"
      },
      "outputs": [
        {
          "output_type": "stream",
          "name": "stdout",
          "text": [
            "Hello Data Scientists!\n"
          ]
        }
      ],
      "source": [
        "########### 1 ###########\n",
        "# write your code here ^_^\n",
        "print('Hello Data Scientists!')"
      ]
    },
    {
      "cell_type": "code",
      "source": [
        "########### 2 & 3 ###########\n",
        "\n",
        "name = 'Hatoon'\n",
        "age = 24\n",
        "height = 164\n",
        "student = False\n",
        "\n",
        "print('My name is: ', name, '\\n' , 'I am', age , 'old', '\\n' , 'My height is:',height, '\\n', 'Am I a student?', student)"
      ],
      "metadata": {
        "colab": {
          "base_uri": "https://localhost:8080/"
        },
        "id": "a4JC6OX8TJVQ",
        "outputId": "10c2b930-fd5a-40a9-a43d-8417c2ea354b"
      },
      "execution_count": null,
      "outputs": [
        {
          "output_type": "stream",
          "name": "stdout",
          "text": [
            "My name is:  Hatoon \n",
            " I am 24 old \n",
            " My height is: 164 \n",
            " Am I a student? False\n"
          ]
        }
      ]
    },
    {
      "cell_type": "markdown",
      "metadata": {
        "id": "EXq4WDsTS_v_"
      },
      "source": [
        "### Task 2\n",
        " 1. Create a list of 5 favorite fruits.\n",
        " 2. Create a list with the price of each fruit.\n",
        " 3. Print the data types of these lists."
      ]
    },
    {
      "cell_type": "code",
      "execution_count": null,
      "metadata": {
        "colab": {
          "base_uri": "https://localhost:8080/"
        },
        "id": "7w04GrqLS_v_",
        "outputId": "3950163b-76a7-4a37-f831-a30cd68770ec"
      },
      "outputs": [
        {
          "output_type": "stream",
          "name": "stdout",
          "text": [
            "<class 'list'> \n",
            " <class 'list'>\n"
          ]
        }
      ],
      "source": [
        "# write your code here ^_^\n",
        "fruits = ['Mango', 'Orange', 'Apple', 'Kiwi', 'Passionfruit']\n",
        "f_price = [5, 3.02, 2, 6.05, 10]\n",
        "\n",
        "print(type(fruits), '\\n',type(f_price))"
      ]
    },
    {
      "cell_type": "markdown",
      "metadata": {
        "id": "NabdSZBES_v_"
      },
      "source": [
        "### Task 3\n",
        "1. Print the names of all fruits using a loop.\n",
        "2. Using a while loop and input built-in function, do the following:\n",
        "    - Ask the the user : \"what is the product of 7 * 24 ?\"\n",
        "    - check if the answer is right then exit the loop and print \"You answered this Question correctly\".\n",
        "    - if the answer is wrong, then print \"Your Answer is wrong try again..\" and show the user the question again.\n",
        "3. Build a program that takes one defined variable of type int, then it prints out the result formatted like the following pattern (if we give it 5 for example):\n",
        "\n",
        "    5 4 3 2 1\n",
        "\n",
        "    4 3 2 1\n",
        "\n",
        "    3 2 1\n",
        "\n",
        "    2 1\n",
        "    \n",
        "    1"
      ]
    },
    {
      "cell_type": "code",
      "execution_count": null,
      "metadata": {
        "colab": {
          "base_uri": "https://localhost:8080/"
        },
        "id": "PyHP0GKBS_wA",
        "outputId": "3f6eed01-190c-4690-bb82-e118b6aa873a"
      },
      "outputs": [
        {
          "output_type": "stream",
          "name": "stdout",
          "text": [
            "['Mango', 'Orange', 'Apple', 'Kiwi', 'Passionfruit']\n",
            "['Mango', 'Orange', 'Apple', 'Kiwi', 'Passionfruit']\n",
            "['Mango', 'Orange', 'Apple', 'Kiwi', 'Passionfruit']\n",
            "['Mango', 'Orange', 'Apple', 'Kiwi', 'Passionfruit']\n",
            "['Mango', 'Orange', 'Apple', 'Kiwi', 'Passionfruit']\n"
          ]
        }
      ],
      "source": [
        "########### 1 ###########\n",
        "# write your code here ^_^\n",
        "for x in fruits:\n",
        "  print(fruits)"
      ]
    },
    {
      "cell_type": "code",
      "source": [
        "########### 2 ###########\n",
        "\n",
        "x = input('What is the product of 7*24? ')\n",
        "while True:\n",
        "  if x == '168':\n",
        "    print('You answered this Question correctly')\n",
        "    break\n",
        "  else:\n",
        "    print('Your Answer is wrong try again..')"
      ],
      "metadata": {
        "id": "sLi8zOvGVnGC",
        "outputId": "65eaec0b-20ea-4701-9ebc-c975ec55b0a4",
        "colab": {
          "base_uri": "https://localhost:8080/"
        }
      },
      "execution_count": 28,
      "outputs": [
        {
          "output_type": "stream",
          "name": "stdout",
          "text": [
            "What is the product of 7*24?168\n",
            "You answered this Question correctly\n"
          ]
        }
      ]
    },
    {
      "cell_type": "code",
      "source": [
        "########### 3 ###########\n",
        "\n",
        "num = 5\n",
        "for num in range(5, 0, -1):\n",
        "  for num2 in range(num, 0, -1):\n",
        "    print(num2, end=' ')\n",
        "  print()"
      ],
      "metadata": {
        "colab": {
          "base_uri": "https://localhost:8080/"
        },
        "id": "YfxhRIWcWmGI",
        "outputId": "0de4afd6-2887-4af5-914a-1a207e58a703"
      },
      "execution_count": 27,
      "outputs": [
        {
          "output_type": "stream",
          "name": "stdout",
          "text": [
            "5 4 3 2 1 \n",
            "4 3 2 1 \n",
            "3 2 1 \n",
            "2 1 \n",
            "1 \n"
          ]
        }
      ]
    },
    {
      "cell_type": "markdown",
      "metadata": {
        "id": "jDJPeXeZS_wA"
      },
      "source": [
        "### Task 4\n",
        "You want to recommend a movie to a friend based on the rating and popularity. To accomplish this do the following:\n",
        "\n",
        "- Create a variable for the movie (choose any movie you like).\n",
        "- Create a variable of type int to hold the rating of the movie out of 5. Give this movie rate = 3\n",
        "- Create a popularity score of type float, let it be 72.65\n",
        "- Using an if statement:\n",
        "    - Check if the movie rating is 4 or greater and the popularity is greater than 80, print \"Highly recommended\".\n",
        "    - Else if the movie rating is 3 or greater and the popularity is greater than 70, print \"I recommended it, It is good\".\n",
        "    - Else if the movie rating is 2 or less and the popularity is greater than 60, print \"You should check it out!\".\n",
        "    - Else the movie rating is 2 or less and the popularity is less than 50, print \"Don't watch it, It is a waste of time\"."
      ]
    },
    {
      "cell_type": "code",
      "execution_count": 26,
      "metadata": {
        "id": "pxOtH8BZS_wB",
        "colab": {
          "base_uri": "https://localhost:8080/"
        },
        "outputId": "f55115ae-a531-4991-bc80-b7db5ecdaacf"
      },
      "outputs": [
        {
          "output_type": "stream",
          "name": "stdout",
          "text": [
            "I recomment it, it is good\n"
          ]
        }
      ],
      "source": [
        "# write your code here ^_^\n",
        "\n",
        "movie = 'The Matrix'\n",
        "rating = 8.7\n",
        "pop_score = 72.65\n",
        "\n",
        "if rating >= 4 and pop_score > 80:\n",
        "  print('Highly recommended')\n",
        "\n",
        "elif rating >= 3 and pop_score > 70:\n",
        "  print('I recomment it, it is good')\n",
        "\n",
        "elif rating <=2 and pop_score > 60:\n",
        "  print('You should check it out!')\n",
        "\n",
        "elif rating <= 2 and pop_score < 50:\n",
        "  print(\"Don't watch it, ir is a waste of time\")\n"
      ]
    },
    {
      "cell_type": "code",
      "source": [],
      "metadata": {
        "id": "HeYd9Y9iZ9DS"
      },
      "execution_count": null,
      "outputs": []
    }
  ],
  "metadata": {
    "kernelspec": {
      "display_name": "Python 3",
      "language": "python",
      "name": "python3"
    },
    "language_info": {
      "codemirror_mode": {
        "name": "ipython",
        "version": 3
      },
      "file_extension": ".py",
      "mimetype": "text/x-python",
      "name": "python",
      "nbconvert_exporter": "python",
      "pygments_lexer": "ipython3",
      "version": "3.9.12"
    },
    "colab": {
      "provenance": []
    }
  },
  "nbformat": 4,
  "nbformat_minor": 0
}